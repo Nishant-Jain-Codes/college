{
 "cells": [
  {
   "cell_type": "code",
   "execution_count": null,
   "metadata": {},
   "outputs": [],
   "source": [
    "factors={}\n",
    "def printFactor():\n",
    "    print('printing factors of given number in power format')\n",
    "    for factor in factors.items():\n",
    "        print(f\"{factor}^{factors[factor]} \",end=\"\")\n",
    "def isPrime(no):\n",
    "    if(no<=2):\n",
    "        return True\n",
    "    for i in range (2,math.s):\n",
    "        if no%i == 0:\n",
    "            return False\n",
    "    return True\n",
    "def giveFactorsMultiplication(no):\n",
    "    if no==0 :\n",
    "        factors.update({0:1})\n",
    "    else :\n",
    "        i=1\n",
    "        while(no):\n",
    "            if(not isPrime(i)):\n",
    "                i+=1\n",
    "                continue\n",
    "            else :\n",
    "                while (no%i==0):\n",
    "                    if i in factors:\n",
    "                        factors[i]+=1\n",
    "                    else:\n",
    "                        factors.update({i:1})\n",
    "                    no/=i\n",
    "    printFactor()\n",
    "\n",
    "giveFactorsMultiplication(10)\n"
   ]
  }
 ],
 "metadata": {
  "language_info": {
   "name": "python"
  },
  "orig_nbformat": 4
 },
 "nbformat": 4,
 "nbformat_minor": 2
}
