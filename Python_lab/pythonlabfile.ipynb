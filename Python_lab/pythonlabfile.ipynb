{
 "cells": [
  {
   "attachments": {},
   "cell_type": "markdown",
   "metadata": {},
   "source": [
    "# python lab exercise 1"
   ]
  },
  {
   "attachments": {},
   "cell_type": "markdown",
   "metadata": {},
   "source": [
    "1.\tTo write a python program that takes in command line arguments as input and print the number of arguments. "
   ]
  },
  {
   "cell_type": "code",
   "execution_count": 21,
   "metadata": {},
   "outputs": [
    {
     "name": "stdout",
     "output_type": "stream",
     "text": [
      "Number of arguments: 11\n",
      "Arguments: ['C:\\\\Users\\\\nisha\\\\AppData\\\\Roaming\\\\Python\\\\Python311\\\\site-packages\\\\ipykernel_launcher.py', '--ip=127.0.0.1', '--stdin=9003', '--control=9001', '--hb=9000', '--Session.signature_scheme=\"hmac-sha256\"', '--Session.key=b\"a4c7fd68-613f-4b1d-85b5-05aeed5b5d85\"', '--shell=9002', '--transport=\"tcp\"', '--iopub=9004', '--f=c:\\\\Users\\\\nisha\\\\AppData\\\\Roaming\\\\jupyter\\\\runtime\\\\kernel-v2-6784hTD2giNfxiej.json']\n"
     ]
    }
   ],
   "source": [
    "import sys\n",
    "print(\"Number of arguments:\",len(sys.argv))\n",
    "print(\"Arguments:\",sys.argv)"
   ]
  },
  {
   "attachments": {},
   "cell_type": "markdown",
   "metadata": {},
   "source": [
    "2. Read number of rows from user. Number of columns=number of rows +1. Take m X n matrix. If any number is consecutive for three times either in rows, column, and diagonals then print the number. If multiple numbers are there then print min of those."
   ]
  },
  {
   "cell_type": "code",
   "execution_count": 28,
   "metadata": {},
   "outputs": [
    {
     "name": "stdout",
     "output_type": "stream",
     "text": [
      "Matrix: [[1, 1, 1, 1], [1, 1, 2, 2], [2, 2, 2, 2]]\n",
      "Found numbers: {1, 2}\n"
     ]
    }
   ],
   "source": [
    "n = int(input(\"Enter the number of rows: \"))\n",
    "m = n + 1\n",
    "a = []\n",
    "\n",
    "for i in range(n):\n",
    "    row = []\n",
    "    for j in range(m):\n",
    "        row.append(int(input(\"Enter the number: \")))\n",
    "    a.append(row)\n",
    "\n",
    "found_numbers = set()\n",
    "\n",
    "for i in range(n):\n",
    "    for j in range(m):\n",
    "        if j < m - 2 and a[i][j] == a[i][j+1] == a[i][j+2]:\n",
    "            found_numbers.add(a[i][j])\n",
    "        if i < n - 2 and a[i][j] == a[i+1][j] == a[i+2][j]:\n",
    "            found_numbers.add(a[i][j])\n",
    "        if i < n - 2 and j < m - 2 and a[i][j] == a[i+1][j+1] == a[i+2][j+2]:\n",
    "            found_numbers.add(a[i][j])\n",
    "        if i < n - 2 and j > 1 and a[i][j] == a[i+1][j-1] == a[i+2][j-2]:\n",
    "            found_numbers.add(a[i][j])\n",
    "print(\"Matrix:\", a)\n",
    "print(\"Found numbers:\", found_numbers)\n"
   ]
  },
  {
   "attachments": {},
   "cell_type": "markdown",
   "metadata": {},
   "source": [
    "3.\tWrite a program which will find all such numbers which are divisible by 7 but are not multiple of 5 between 2000 and 3200 (both included). The numbers obtained should be printed in a comma separated sequence on a single line. "
   ]
  },
  {
   "cell_type": "code",
   "execution_count": 29,
   "metadata": {},
   "outputs": [
    {
     "name": "stdout",
     "output_type": "stream",
     "text": [
      "2002, 2009, 2016, 2023, 2037, 2044, 2051, 2058, 2072, 2079, 2086, 2093, 2107, 2114, 2121, 2128, 2142, 2149, 2156, 2163, 2177, 2184, 2191, 2198, 2212, 2219, 2226, 2233, 2247, 2254, 2261, 2268, 2282, 2289, 2296, 2303, 2317, 2324, 2331, 2338, 2352, 2359, 2366, 2373, 2387, 2394, 2401, 2408, 2422, 2429, 2436, 2443, 2457, 2464, 2471, 2478, 2492, 2499, 2506, 2513, 2527, 2534, 2541, 2548, 2562, 2569, 2576, 2583, 2597, 2604, 2611, 2618, 2632, 2639, 2646, 2653, 2667, 2674, 2681, 2688, 2702, 2709, 2716, 2723, 2737, 2744, 2751, 2758, 2772, 2779, 2786, 2793, 2807, 2814, 2821, 2828, 2842, 2849, 2856, 2863, 2877, 2884, 2891, 2898, 2912, 2919, 2926, 2933, 2947, 2954, 2961, 2968, 2982, 2989, 2996, 3003, 3017, 3024, 3031, 3038, 3052, 3059, 3066, 3073, 3087, 3094, 3101, 3108, 3122, 3129, 3136, 3143, 3157, 3164, 3171, 3178, 3192, 3199\n"
     ]
    }
   ],
   "source": [
    "numbers = []\n",
    "\n",
    "for num in range(2000, 3201):\n",
    "    if num % 7 == 0 and num % 5 != 0:\n",
    "        numbers.append(num)\n",
    "\n",
    "result = ', '.join(str(num) for num in numbers)\n",
    "print(result)\n"
   ]
  },
  {
   "attachments": {},
   "cell_type": "markdown",
   "metadata": {},
   "source": [
    "# python lab exercise 2"
   ]
  },
  {
   "attachments": {},
   "cell_type": "markdown",
   "metadata": {},
   "source": [
    "1. Make a list that includes at least three people you'd like to invite to dinner. \n",
    "Then use your list to print a message to each person, inviting them to dinner."
   ]
  },
  {
   "cell_type": "code",
   "execution_count": 1,
   "metadata": {},
   "outputs": [
    {
     "name": "stdout",
     "output_type": "stream",
     "text": [
      "cbum please come to my gym opening\n",
      "ronnie please come to my gym opening\n",
      "arjun please come to my gym opening\n",
      "greg please come to my gym opening\n",
      "khatri please come to my gym opening\n"
     ]
    }
   ],
   "source": [
    "invitees = ['cbum','ronnie','arjun','greg','khatri']\n",
    "for i in invitees:\n",
    "    print(i,'please come to my gym opening')"
   ]
  },
  {
   "attachments": {},
   "cell_type": "markdown",
   "metadata": {},
   "source": [
    "2. Start with your program from Exercise 1. You just heard that one of your guests can't make the dinner,\n",
    "so you Modify your list,\n",
    "replacing the name of the guest who can't make it with the name of the new person you are inviting.\n",
    "Add a print statement at the end of your program stating the name of the guest who can't make it.\n",
    "Print a second set of invitation messages, one for each person who is still in your list.\n",
    "need to send out a new set of invitations. You'll have to think of someone else to invite.\n"
   ]
  },
  {
   "cell_type": "code",
   "execution_count": 2,
   "metadata": {},
   "outputs": [
    {
     "name": "stdout",
     "output_type": "stream",
     "text": [
      "rahul please come to my gym opening\n",
      "khabib please come to my gym opening\n",
      "david please come to my gym opening\n",
      "joe please come to my gym opening\n",
      "kai please come to my gym opening\n"
     ]
    }
   ],
   "source": [
    "invitees = ['cbum' , 'khabib','david','joe','kai']\n",
    "other_invitees = ['rahul','rohan','ram','lakshman','ran']\n",
    "\n",
    "def send_invites():\n",
    "    for i in invitees:\n",
    "        print(i,'please come to my gym opening')\n",
    "\n",
    "def check_rejections():\n",
    "    return input('write your name to decline the invite :')\n",
    "\n",
    "def manage_rejection(rejected):\n",
    "    if(rejected not in invitees):\n",
    "        print(\"thanks but you weren't invited\")\n",
    "    else:\n",
    "        invitees.remove(rejected)\n",
    "        invitees.insert(0,other_invitees[0])\n",
    "        other_invitees.pop(0)\n",
    "        send_invites()\n",
    "\n",
    "manage_rejection(check_rejections())"
   ]
  },
  {
   "attachments": {},
   "cell_type": "markdown",
   "metadata": {},
   "source": [
    "3. You just found a bigger dinner table, so now more space is available.\n",
    "Think of three more guests to invite to dinner.\n",
    "Add a print statement to the end of your program informing people that you found a bigger dinner table.\n",
    "Use insert() to add one new guest to the beginning of your list.\n",
    "Use insert() to add one new guest to the middle of your list.\n",
    "Use append() to add one new guest to the end of your list.\n",
    "Print a new set of invitation messages, one for each person in your list\n"
   ]
  },
  {
   "cell_type": "code",
   "execution_count": 3,
   "metadata": {},
   "outputs": [
    {
     "name": "stdout",
     "output_type": "stream",
     "text": [
      "hey we have a new table enter your names\n",
      "david please come to my gym opening\n",
      "khabib please come to my gym opening\n",
      "cbum please come to my gym opening\n",
      "cbum please come to my gym opening\n",
      "khabib please come to my gym opening\n",
      "david please come to my gym opening\n",
      "joe please come to my gym opening\n",
      "kai please come to my gym opening\n"
     ]
    }
   ],
   "source": [
    "invitees = ['cbum' , 'khabib','david','joe','kai']\n",
    "other_invitees = ['rahul','rohan','ram','lakshman','ran']\n",
    "\n",
    "def send_invites():\n",
    "    for inv in invitees:\n",
    "        print(inv,'please come to my gym opening')\n",
    "    return None\n",
    "\n",
    "def check_rejections():\n",
    "    return input('write your name to decline the invite :')\n",
    "\n",
    "def manage_rejection(rejected):\n",
    "    if(rejected not in invitees):\n",
    "        print(\"thanks but you weren't invited\")\n",
    "    else:\n",
    "        invitees.remove(rejected)\n",
    "        invitees.insert(0,other_invitees[0])\n",
    "        other_invitees.pop(0)\n",
    "        send_invites()\n",
    "\n",
    "print('hey we have a new table enter your names')\n",
    "for i in range(3):\n",
    "    invitees.insert(0,input('your name '))\n",
    "send_invites()"
   ]
  },
  {
   "attachments": {},
   "cell_type": "markdown",
   "metadata": {},
   "source": [
    "4. Shrinking Guest List\n",
    "You just found out that your new dinner table won't arrive in time for the dinner, and you have space for only two guests.\n",
    "Add a new line that prints a message saying that you can invite only two people for dinner.\n",
    "Use pop() to remove guests from your list one at a time until only two names remain in your list. \n",
    "Each time you pop a name from your list, print a message to that person letting them know you're sorry you can't invite them to dinner.\n",
    "Print a message to each of the two people still on your list, letting them know they're still invited.\n",
    "Use del to remove the last two names from your list, so you have an empty list. \n",
    "Print your list to make sure you actually have an empty list at the end of your program.\n"
   ]
  },
  {
   "cell_type": "code",
   "execution_count": 4,
   "metadata": {},
   "outputs": [
    {
     "name": "stdout",
     "output_type": "stream",
     "text": [
      "sorry but the party is cancelled :/ i can only treat 2 \n",
      "cbum sorry but your invitation is cancelled\n",
      "khabib sorry but your invitation is cancelled\n",
      "david sorry but your invitation is cancelled\n"
     ]
    }
   ],
   "source": [
    "invitees = ['cbum' , 'khabib','david','joe','kai']\n",
    "\n",
    "print('sorry but the party is cancelled :/ i can only treat 2 ')\n",
    "while len(invitees)>2:\n",
    "    print(invitees[0],'sorry but your invitation is cancelled')\n",
    "    del invitees[0]"
   ]
  },
  {
   "attachments": {},
   "cell_type": "markdown",
   "metadata": {},
   "source": [
    "5. find gcd of 2 no"
   ]
  },
  {
   "cell_type": "code",
   "execution_count": 5,
   "metadata": {},
   "outputs": [
    {
     "name": "stdout",
     "output_type": "stream",
     "text": [
      "gcd is :  2\n"
     ]
    }
   ],
   "source": [
    "def gcd(a,b):\n",
    "    if a==b :\n",
    "        return a\n",
    "    if(a>b) :\n",
    "        return gcd(a-b,b)\n",
    "    else :\n",
    "        return gcd(a,b-a) \n",
    "x = int(input(\"enter a :\"))#10\n",
    "y = int(input(\"enter b \"))#4\n",
    "print(\"gcd is : \",gcd(x,y))"
   ]
  },
  {
   "attachments": {},
   "cell_type": "markdown",
   "metadata": {},
   "source": [
    "6. read a file and return most frequency word in the file"
   ]
  },
  {
   "cell_type": "code",
   "execution_count": null,
   "metadata": {},
   "outputs": [],
   "source": [
    "from collections import Counter\n",
    "import os\n",
    "path = os.path.join(\"/workspaces/codespaces-blank/college/Python_lab/lab_exercise_2/level-1/\", \"input.txt\")\n",
    "file = open(path, \"r\",encoding=\"utf-8\")\n",
    "content = file.read()\n",
    "most_freq = Counter(content.split(\" \"))\n",
    "maxFreq = -1;\n",
    "maxFreqStr = \"\"\n",
    "for word,freq in most_freq.items():\n",
    "    if(freq>maxFreq):\n",
    "        maxFreq=freq\n",
    "        maxFreqStr=word\n",
    "print('most freq word and its freq ',maxFreqStr,maxFreq)\n",
    "file.close()"
   ]
  },
  {
   "attachments": {},
   "cell_type": "markdown",
   "metadata": {},
   "source": [
    "# python lab exercise 3"
   ]
  },
  {
   "attachments": {},
   "cell_type": "markdown",
   "metadata": {},
   "source": [
    "1. find a^b"
   ]
  },
  {
   "cell_type": "code",
   "execution_count": 6,
   "metadata": {},
   "outputs": [
    {
     "name": "stdout",
     "output_type": "stream",
     "text": [
      "power, using pow function 8.0\n",
      "power, using inbuilt function 8.0\n"
     ]
    }
   ],
   "source": [
    "import math\n",
    "\n",
    "def pow(x,n):\n",
    "    if(n==0):\n",
    "        return 1.0\n",
    "    return x*pow(x,n-1)\n",
    "\n",
    "print('power, using pow function',pow(2,3))\n",
    "print('power, using inbuilt function',math.pow(2,3))"
   ]
  },
  {
   "attachments": {},
   "cell_type": "markdown",
   "metadata": {},
   "source": [
    "2. find square root of a number"
   ]
  },
  {
   "cell_type": "code",
   "execution_count": 8,
   "metadata": {},
   "outputs": [
    {
     "name": "stdout",
     "output_type": "stream",
     "text": [
      "using newton method 3.162277660168379\n",
      "using binary search 3.1622776601070655\n",
      "using inbuilt function 3.1622776601683795\n"
     ]
    }
   ],
   "source": [
    "import math\n",
    "def sqrt_bs(no):\n",
    "    if no < 0:\n",
    "        return None\n",
    "    if no==0:\n",
    "        return 0.0\n",
    "    start = 1.0\n",
    "    end = float(no)\n",
    "    epsilon = 1.0e-10\n",
    "    while end-start > epsilon:\n",
    "        mid = (start + end) / 2\n",
    "        if mid * mid < no:\n",
    "            start = mid\n",
    "        else:\n",
    "            end = mid \n",
    "    return start\n",
    "\n",
    "def sqrt_newton(no):\n",
    "    if no==0:\n",
    "        return 0.0\n",
    "    epsilon = 1.0e-10\n",
    "    x = 1.0\n",
    "    while abs(x*x - no) > epsilon:\n",
    "        x = (x + no/x) / 2\n",
    "    return x\n",
    "print('using newton method',sqrt_newton(10))\n",
    "print('using binary search',sqrt_bs(10))\n",
    "print('using inbuilt function',math.sqrt(10))"
   ]
  },
  {
   "attachments": {},
   "cell_type": "markdown",
   "metadata": {},
   "source": [
    "3. find factors of a number"
   ]
  },
  {
   "cell_type": "code",
   "execution_count": 9,
   "metadata": {},
   "outputs": [
    {
     "name": "stdout",
     "output_type": "stream",
     "text": [
      "printing factors of given number in power format\n",
      "2^2 5^2 {2: 2, 5: 2}\n"
     ]
    }
   ],
   "source": [
    "import math \n",
    "factors={}\n",
    "def printFactor():\n",
    "    print('printing factors of given number in power format')\n",
    "    for factor in factors.items():\n",
    "        print(f\"{factor[0]}^{factor[1]} \",end=\"\")\n",
    "def isPrime(no):\n",
    "    if(no<=2):\n",
    "        return True\n",
    "    for i in range (2,int(math.sqrt(no))):\n",
    "        if no%i == 0:\n",
    "            return False\n",
    "    return True\n",
    "def giveFactorsMultiplication(no):\n",
    "    if no<=3 :\n",
    "        factors.update({no:1})\n",
    "    else :\n",
    "        i=2\n",
    "        while(i<=no):\n",
    "            if(not isPrime(i)):\n",
    "                i=i+1\n",
    "            else :\n",
    "                while (no%i==0):\n",
    "                    if i in factors:\n",
    "                        factors[i]+=1\n",
    "                    else:\n",
    "                        factors.update({i:1})\n",
    "                    no=no/i\n",
    "            i+=1\n",
    "    printFactor()\n",
    "    print(factors)\n",
    "\n",
    "giveFactorsMultiplication(int(input(\"Enter a number: \")))\n"
   ]
  },
  {
   "attachments": {},
   "cell_type": "markdown",
   "metadata": {},
   "source": [
    "1. tic tac toe judge"
   ]
  },
  {
   "cell_type": "code",
   "execution_count": 10,
   "metadata": {},
   "outputs": [
    {
     "name": "stdout",
     "output_type": "stream",
     "text": [
      "['O', 'O', 'X']\n",
      "['O', 'X', 'O']\n",
      "['O', 'X', 'X']\n",
      "result of the match O player wins\n"
     ]
    }
   ],
   "source": [
    "board = [\n",
    "    ['O', 'O', 'X'],\n",
    "    ['O', 'X', 'O'],\n",
    "    ['O', 'X', 'X']\n",
    "]\n",
    "def check_TicTacToe(board):\n",
    "    for i in range(0,3):\n",
    "        if board[i][0] == board[i][1] == board[i][2]:\n",
    "            return (f\"{board[i][0]} player wins\")\n",
    "        elif board[0][i] == board[1][i] == board[2][i]:\n",
    "            return (f\"{board[0][i]} player wins\")\n",
    "        elif board[0][0] == board[1][1] == board[2][2]:\n",
    "            return (f\"{board[0][0]} player wins\")\n",
    "        elif board[0][2] == board[1][1] == board[2][0]:\n",
    "            return (f\"{board[0][2]} player wins\")\n",
    "        else:\n",
    "            return 'draw'\n",
    "for row in board:\n",
    "    print(row)\n",
    "print('result of the match' , check_TicTacToe(board))"
   ]
  },
  {
   "attachments": {},
   "cell_type": "markdown",
   "metadata": {},
   "source": [
    "# python lab exercise 4"
   ]
  },
  {
   "attachments": {},
   "cell_type": "markdown",
   "metadata": {},
   "source": [
    "1. Find the maximum element in a list of numbers"
   ]
  },
  {
   "cell_type": "code",
   "execution_count": 14,
   "metadata": {},
   "outputs": [
    {
     "name": "stdout",
     "output_type": "stream",
     "text": [
      "The maximum element is: 10\n"
     ]
    }
   ],
   "source": [
    "def maxFinder(inList):\n",
    "    max_value = inList[0]\n",
    "    for i in inList:\n",
    "        if i > max_value:\n",
    "            max_value = i\n",
    "    return max_value\n",
    "\n",
    "noOfElements = int(input(\"Enter the number of elements: \"))\n",
    "inList = [int(input(\"Enter the element: \")) for i in range(noOfElements)]\n",
    "print(\"The maximum element is:\", maxFinder(inList))\n",
    "# list = [1,2,3,4,5,6,7,8,9,10]"
   ]
  },
  {
   "attachments": {},
   "cell_type": "markdown",
   "metadata": {},
   "source": [
    "2. linear search "
   ]
  },
  {
   "cell_type": "code",
   "execution_count": 15,
   "metadata": {},
   "outputs": [
    {
     "name": "stdout",
     "output_type": "stream",
     "text": [
      "The element is present at index:  -1\n"
     ]
    }
   ],
   "source": [
    "def indexFinder(inList,x):\n",
    "    for i in range(len(inList)):\n",
    "        if inList[i] == x:\n",
    "            return i\n",
    "    return -1\n",
    "\n",
    "inList = [int(input(\"Enter the element: \")) for i in range(int(input(\"Enter the number of elements: \")))]\n",
    "element = int(input(\"Enter the element to be searched: \"))\n",
    "print(\"The element is present at index: \", indexFinder(inList, element))"
   ]
  },
  {
   "attachments": {},
   "cell_type": "markdown",
   "metadata": {},
   "source": [
    "3. Problem statement: There are N houses. The amount to color each house with Red, Green, Blue colors is\n",
    "given. Write a program to find the minimum amount to paint all houses such that no 2 adjacent houses\n",
    "have the same color.\n",
    "Input:\n",
    "N = 3\n",
    "Red = [6, 5, 3]\n",
    "Green = [3, 1, 6]\n",
    "Blue = [9, 4, 2]"
   ]
  },
  {
   "cell_type": "code",
   "execution_count": 16,
   "metadata": {},
   "outputs": [
    {
     "name": "stdout",
     "output_type": "stream",
     "text": [
      "The minimum amount to paint all houses such that no 2 adjacent houses have the same color is:  1\n"
     ]
    }
   ],
   "source": [
    "def solution(tookRed,tookGreen,tookBlue,houseNo,totalhouse):\n",
    "    if houseNo == totalhouse:\n",
    "        return 0\n",
    "    if tookRed:\n",
    "        return min(solution(False,True,False,houseNo+1,totalhouse),solution(False,False,True,houseNo+1,totalhouse))+Red[houseNo]\n",
    "    elif tookGreen:\n",
    "        return min(solution(True,False,False,houseNo+1,totalhouse),solution(False,False,True,houseNo+1,totalhouse))+Green[houseNo]    \n",
    "    elif tookBlue:\n",
    "        return min(solution(True,False,False,houseNo+1,totalhouse),solution(False,True,False,houseNo+1,totalhouse))+Blue[houseNo] \n",
    "\n",
    "\n",
    "N = 3\n",
    "Red = [5,50,0]\n",
    "Green = [10,100,10]\n",
    "Blue = [1,0,60]\n",
    "ansifRed = solution(True,False,False,1,N) + Red[0]\n",
    "ansifGreen = solution(False,True,False,1,N) + Green[0]\n",
    "ansifBlue = solution(False,False,True,1,N) + Blue[0]\n",
    "print(\"The minimum amount to paint all houses such that no 2 adjacent houses have the same color is: \", min(ansifRed,ansifGreen,ansifBlue))\n"
   ]
  },
  {
   "attachments": {},
   "cell_type": "markdown",
   "metadata": {},
   "source": [
    "# python lab exercise 5"
   ]
  },
  {
   "attachments": {},
   "cell_type": "markdown",
   "metadata": {},
   "source": [
    "1. binary search"
   ]
  },
  {
   "cell_type": "code",
   "execution_count": 18,
   "metadata": {},
   "outputs": [
    {
     "name": "stdout",
     "output_type": "stream",
     "text": [
      "location of number -11 is in the array :0\n"
     ]
    }
   ],
   "source": [
    "def binarySearch(arr,find):\n",
    "    lo = 0\n",
    "    hi = len(arr)\n",
    "    while(lo<=hi):\n",
    "        mid = (hi+lo)>>1\n",
    "        if(arr[mid]==find):\n",
    "            return mid\n",
    "        elif(arr[mid] > find):\n",
    "            hi=mid-1\n",
    "        else:\n",
    "            lo = mid+1\n",
    "    return -1\n",
    "\n",
    "size = int(input(\"enter the size of array \"))\n",
    "arr = [int(input(\"Enter the element: \")) for i in range(size)]\n",
    "arr.sort()\n",
    "find = int(input(\"what number to find ? \"))\n",
    "print(f\"location of number {find} is in the array :{binarySearch(arr,find)}\")"
   ]
  },
  {
   "attachments": {},
   "cell_type": "markdown",
   "metadata": {},
   "source": [
    "2. bubble sort"
   ]
  },
  {
   "cell_type": "code",
   "execution_count": 19,
   "metadata": {},
   "outputs": [
    {
     "name": "stdout",
     "output_type": "stream",
     "text": [
      "sorted array is [1, 3, 5, 10]\n"
     ]
    }
   ],
   "source": [
    "def bubbleSort(arr,si,ei):\n",
    "    if(si>=ei):\n",
    "        return\n",
    "    for i in range(si,ei):\n",
    "        if(arr[i]>arr[i+1]):\n",
    "            temp = arr[i]\n",
    "            arr[i]=arr[i+1]\n",
    "            arr[i+1]=temp\n",
    "    bubbleSort(arr,si,ei-1)\n",
    "    return \n",
    "\n",
    "size = int(input(\"enter the size of array \"))\n",
    "arr = [int(input(\"Enter the element: \")) for i in range(size)]\n",
    "bubbleSort(arr,0,size-1)\n",
    "print(f\"sorted array is {arr}\")"
   ]
  },
  {
   "attachments": {},
   "cell_type": "markdown",
   "metadata": {},
   "source": [
    "3. group anagrams"
   ]
  },
  {
   "cell_type": "code",
   "execution_count": 21,
   "metadata": {},
   "outputs": [
    {
     "name": "stdout",
     "output_type": "stream",
     "text": [
      "[['tea', 'tea', 'eat'], ['tac', 'cat']]\n"
     ]
    }
   ],
   "source": [
    "\n",
    "size = int(input(\"enter the size of array \"))\n",
    "givenList = [input(\"Enter the element: \") for i in range(size)]\n",
    "mappedList = {i:sorted(i) for i in givenList}\n",
    "solution = []\n",
    "for i in range(0,len(givenList)):\n",
    "    temp = []\n",
    "    if givenList[i] == '':\n",
    "        continue\n",
    "    for j in range(i+1,len(givenList)):\n",
    "        if(len(givenList[j])!=0 and mappedList[givenList[i]]==mappedList[givenList[j]] ):\n",
    "            temp.append(givenList[j])\n",
    "            givenList[j] = \"\"\n",
    "    if(len(temp)>0):\n",
    "        temp.append(givenList[i])\n",
    "        solution.append(temp)\n",
    "print(solution)"
   ]
  },
  {
   "attachments": {},
   "cell_type": "markdown",
   "metadata": {},
   "source": [
    "# python lab exercise 6"
   ]
  },
  {
   "attachments": {},
   "cell_type": "markdown",
   "metadata": {},
   "source": [
    "1. insertion sort"
   ]
  },
  {
   "cell_type": "code",
   "execution_count": 22,
   "metadata": {},
   "outputs": [
    {
     "name": "stdout",
     "output_type": "stream",
     "text": [
      "sorted array is [-11, -10, 0, 1, 3, 5, 11, 13, 103]\n"
     ]
    }
   ],
   "source": [
    "def insertionSort(arr):\n",
    "    for i in range(1,len(arr)):\n",
    "        key = arr[i]\n",
    "        j = i-1\n",
    "        while j>=0 and key<arr[j]:\n",
    "            arr[j+1] = arr[j]\n",
    "            j-=1\n",
    "        arr[j+1] = key\n",
    "arr = [int(x) for x in input(\"Enter the array: \").split()]\n",
    "insertionSort(arr)\n",
    "print(f\"sorted array is {arr}\")"
   ]
  },
  {
   "attachments": {},
   "cell_type": "markdown",
   "metadata": {},
   "source": [
    "2. selection sort"
   ]
  },
  {
   "cell_type": "code",
   "execution_count": 23,
   "metadata": {},
   "outputs": [
    {
     "name": "stdout",
     "output_type": "stream",
     "text": [
      "sorted array is [-31234, -1312, -10, -1, 30, 1190]\n"
     ]
    }
   ],
   "source": [
    "def selectionSort(arr):\n",
    "    for i in range(len(arr)):\n",
    "        min_index = i\n",
    "        for j in range(i+1,len(arr)):\n",
    "            if arr[min_index] > arr[j]:\n",
    "                min_index = j\n",
    "        arr[i],arr[min_index] = arr[min_index],arr[i] \n",
    "arr = [int(x) for x in input(\"Enter the array: \").split()]\n",
    "selectionSort(arr)\n",
    "print(f\"sorted array is {arr}\")\n",
    "\n",
    "\n",
    "# ouput\n",
    "# Enter the array: 1 5 -1 10 200 104\n",
    "# sorted array is [-1, 1, 5, 10, 104, 200]"
   ]
  },
  {
   "attachments": {},
   "cell_type": "markdown",
   "metadata": {},
   "source": [
    "# python lab exercise 7"
   ]
  },
  {
   "attachments": {},
   "cell_type": "markdown",
   "metadata": {},
   "source": [
    "1. To write a python program of merge sort."
   ]
  },
  {
   "cell_type": "code",
   "execution_count": 20,
   "metadata": {},
   "outputs": [
    {
     "name": "stdout",
     "output_type": "stream",
     "text": [
      "unsorted array is [1, -10, -22, 9, 123, 0, 120]\n",
      "sorted array is [-22, -10, 0, 1, 9, 120, 123]\n"
     ]
    }
   ],
   "source": [
    "# write the code for merger sort that calls a function merge\n",
    "def merge(arr,si,mid,ei):\n",
    "    n1 = mid-si+1\n",
    "    n2 = ei-mid\n",
    "    left = [0]*n1\n",
    "    right = [0]*n2\n",
    "    for i in range(0,n1):\n",
    "        left[i] = arr[si+i]\n",
    "    for j in range(0,n2):\n",
    "        right[j] = arr[mid+1+j]\n",
    "    i=0\n",
    "    j=0\n",
    "    k=si\n",
    "    while(i<n1 and j<n2):\n",
    "        if(left[i]<=right[j]):\n",
    "            arr[k] = left[i]\n",
    "            i+=1\n",
    "        else:\n",
    "            arr[k]=right[j]\n",
    "            j+=1\n",
    "        k+=1\n",
    "    while(i<n1):\n",
    "        arr[k] = left[i]\n",
    "        i+=1\n",
    "        k+=1\n",
    "    while(j<n2):\n",
    "        arr[k] = right[j]\n",
    "        j+=1\n",
    "        k+=1\n",
    "def mergeSort(arr,si,ei):\n",
    "    if(si>=ei):\n",
    "        return\n",
    "    mid = (si+ei)//2\n",
    "    mergeSort(arr,si,mid)\n",
    "    mergeSort(arr,mid+1,ei)\n",
    "    merge(arr,si,mid,ei)\n",
    "arr = [int(x) for x in input(\"Enter the array: \").split()]\n",
    "print(f\"unsorted array is {arr}\")\n",
    "mergeSort(arr,0,len(arr)-1)\n",
    "print(f\"sorted array is {arr}\")\n"
   ]
  },
  {
   "attachments": {},
   "cell_type": "markdown",
   "metadata": {},
   "source": [
    "# python lab exercise 8"
   ]
  },
  {
   "attachments": {},
   "cell_type": "markdown",
   "metadata": {},
   "source": [
    "1. Make a class called Restaurant. The __init__() method for Restaurant should store two\n",
    "attributes: a restaurant_name and a cuisine_type. Make a method called describe_restaurant()\n",
    "that prints these two pieces of information, and a method called open_restaurant() that prints a\n",
    "message indicating that the restaurant is open.\n",
    "Make an instance called restaurant from your class. Print the two attributes individually, and then\n",
    "call both methods.\n",
    "2. Start with your class from Exercise 1. Create three different instances from the class, and call\n",
    "describe_restaurant () for each instance."
   ]
  },
  {
   "cell_type": "code",
   "execution_count": 31,
   "metadata": {},
   "outputs": [
    {
     "name": "stdout",
     "output_type": "stream",
     "text": [
      "Restaurant name is KFC and cuisine type is Fast Food\n",
      "KFC is open\n",
      "Restaurant name is mcDonalds and cuisine type is Fast Food\n",
      "mcDonalds is open\n"
     ]
    }
   ],
   "source": [
    "class Restaurant:\n",
    "    def __init__(self,restaurant_name,cuisine_type):\n",
    "        self.restaurant_name = restaurant_name\n",
    "        self.cuisine_type = cuisine_type\n",
    "    def describe_restaurant(self):\n",
    "        print(f\"Restaurant name is {self.restaurant_name} and cuisine type is {self.cuisine_type}\")\n",
    "    def open_restaurant(self):\n",
    "        print(f\"{self.restaurant_name} is open\")\n",
    "\n",
    "restaurant1 = Restaurant(\"KFC\",\"Fast Food\")\n",
    "restaurant1.describe_restaurant()\n",
    "restaurant1.open_restaurant()\n",
    "restaurant2 = Restaurant(\"mcDonalds\",\"Fast Food\")\n",
    "restaurant2.describe_restaurant()\n",
    "restaurant2.open_restaurant()\n"
   ]
  },
  {
   "attachments": {},
   "cell_type": "markdown",
   "metadata": {},
   "source": [
    "3. Make a class called User. Create two attributes called first_name and last_name, and then create\n",
    "several other attributes that are typically stored in a user profile. Make a method called describe_user ()\n",
    "that prints a summary of the user’s information. Make another method called greet_user () that prints a\n",
    "personalized greeting to the user.\n",
    "Create several instances representing different users, and call both methods for each user."
   ]
  },
  {
   "cell_type": "code",
   "execution_count": 34,
   "metadata": {},
   "outputs": [
    {
     "name": "stdout",
     "output_type": "stream",
     "text": [
      "User Information:\n",
      "First Name: Nishant\n",
      "Last Name: jain\n",
      "Age: 20\n",
      "Location: germany\n",
      "Occupation: Software Engineer\n",
      "Hello, Nishant jain! Welcome!\n",
      "User Information:\n",
      "First Name: rohan\n",
      "Last Name: singh\n",
      "Age: 22\n",
      "Location: india\n",
      "Occupation: Data Scientist\n",
      "Hello, rohan singh! Welcome!\n",
      "User Information:\n",
      "First Name: rahul\n",
      "Last Name: tyagi\n",
      "Age: 21\n",
      "Location: usa\n",
      "Occupation: Teacher\n",
      "Hello, rahul tyagi! Welcome!\n"
     ]
    }
   ],
   "source": [
    "class User:\n",
    "    def __init__(self, first_name, last_name, age, location, occupation):\n",
    "        self.first_name = first_name\n",
    "        self.last_name = last_name\n",
    "        self.age = age\n",
    "        self.location = location\n",
    "        self.occupation = occupation\n",
    "\n",
    "    def describe_user(self):\n",
    "        print(f\"User Information:\")\n",
    "        print(f\"First Name: {self.first_name}\")\n",
    "        print(f\"Last Name: {self.last_name}\")\n",
    "        print(f\"Age: {self.age}\")\n",
    "        print(f\"Location: {self.location}\")\n",
    "        print(f\"Occupation: {self.occupation}\")\n",
    "\n",
    "    def greet_user(self):\n",
    "        print(f\"Hello, {self.first_name} {self.last_name}! Welcome!\")\n",
    "\n",
    "# Create user instances\n",
    "user1 = User(\"Nishant\", \"jain\", 20, \"germany\", \"Software Engineer\")\n",
    "user2 = User(\"rohan\", \"singh\", 22, \"india\", \"Data Scientist\")\n",
    "user3 = User(\"rahul\", \"tyagi\", 21, \"usa\", \"Teacher\")\n",
    "\n",
    "# Call methods for each user\n",
    "user1.describe_user()\n",
    "user1.greet_user()\n",
    "\n",
    "user2.describe_user()\n",
    "user2.greet_user()\n",
    "\n",
    "user3.describe_user()\n",
    "user3.greet_user()\n"
   ]
  },
  {
   "attachments": {},
   "cell_type": "markdown",
   "metadata": {},
   "source": [
    "Design and implement a music player which has a shuffle playlist feature. Make sure shuffle doesn’t\n",
    "repeat songs.\n",
    "Following features and requirements should be added to the music player.\n",
    "- Shuffle song playlist. (Song should not be repeated songs. It means if the song is already\n",
    "played, don’t consider it.)\n",
    "-  Add a song to the play song queue.\n",
    "- Play a song from the queue."
   ]
  },
  {
   "cell_type": "code",
   "execution_count": 35,
   "metadata": {},
   "outputs": [
    {
     "name": "stdout",
     "output_type": "stream",
     "text": [
      "Now playing: Song 3\n",
      "Now playing: Song 4\n",
      "Now playing: Song 1\n",
      "Now playing: Song 2\n",
      "No more songs in the playlist.\n"
     ]
    }
   ],
   "source": [
    "import random\n",
    "\n",
    "class MusicPlayer:\n",
    "    def __init__(self):\n",
    "        self.playlist = []\n",
    "        self.played_songs = []\n",
    "\n",
    "    def add_song(self, song):\n",
    "        self.playlist.append(song)\n",
    "\n",
    "    def shuffle_playlist(self):\n",
    "        remaining_songs = list(set(self.playlist) - set(self.played_songs))\n",
    "        if remaining_songs:\n",
    "            song = random.choice(remaining_songs)\n",
    "            self.played_songs.append(song)\n",
    "            return song\n",
    "        else:\n",
    "            return None\n",
    "\n",
    "    def play_song(self):\n",
    "        song = self.shuffle_playlist()\n",
    "        if song:\n",
    "            print(\"Now playing:\", song)\n",
    "        else:\n",
    "            print(\"No more songs in the playlist.\")\n",
    "\n",
    "# Example usage\n",
    "music_player = MusicPlayer()\n",
    "\n",
    "# Adding songs to the playlist\n",
    "music_player.add_song(\"Song 1\")\n",
    "music_player.add_song(\"Song 2\")\n",
    "music_player.add_song(\"Song 3\")\n",
    "music_player.add_song(\"Song 4\")\n",
    "\n",
    "# Playing songs from the playlist\n",
    "music_player.play_song()\n",
    "music_player.play_song()\n",
    "music_player.play_song()\n",
    "music_player.play_song()\n",
    "music_player.play_song()\n"
   ]
  },
  {
   "attachments": {},
   "cell_type": "markdown",
   "metadata": {},
   "source": [
    "# python lab exercise 9"
   ]
  },
  {
   "attachments": {},
   "cell_type": "markdown",
   "metadata": {},
   "source": [
    "1. To write a python program of bubble sort."
   ]
  },
  {
   "cell_type": "code",
   "execution_count": 24,
   "metadata": {},
   "outputs": [
    {
     "name": "stdout",
     "output_type": "stream",
     "text": [
      "sorted array is [-11, -10, 0, 1, 399]\n"
     ]
    }
   ],
   "source": [
    "def bubbleSort(arr):\n",
    "    for i in range(len(arr)):\n",
    "        for j in range(len(arr)-i-1):\n",
    "            if arr[j]>arr[j+1]:\n",
    "                arr[j],arr[j+1]=arr[j+1],arr[j]\n",
    "arr = [int(x) for x in input(\"Enter the array: \").split()]\n",
    "bubbleSort(arr)\n",
    "print(f\"sorted array is {arr}\")"
   ]
  },
  {
   "attachments": {},
   "cell_type": "markdown",
   "metadata": {},
   "source": [
    "2. To write a python program to find first n prime numbers"
   ]
  },
  {
   "cell_type": "code",
   "execution_count": 27,
   "metadata": {},
   "outputs": [
    {
     "name": "stdout",
     "output_type": "stream",
     "text": [
      "The first 4 prime numbers are: [2, 3, 5, 7]\n"
     ]
    }
   ],
   "source": [
    "def isPrime(num):\n",
    "    if num < 2:\n",
    "        return False\n",
    "    for i in range(2, int(num**0.5) + 1):\n",
    "        if num % i == 0:\n",
    "            return False\n",
    "    return True\n",
    "\n",
    "def firstNprimeNo(n):\n",
    "    primeNo = []\n",
    "    num = 2\n",
    "    while len(primeNo) < n:\n",
    "        if isPrime(num):\n",
    "            primeNo.append(num)\n",
    "        num += 1\n",
    "    return primeNo\n",
    "\n",
    "n = int(input(\"Enter the number: \"))\n",
    "primes = firstNprimeNo(n)\n",
    "print(\"The first {} prime numbers are: {}\".format(n, primes))\n"
   ]
  },
  {
   "attachments": {},
   "cell_type": "markdown",
   "metadata": {},
   "source": [
    "3. Sieve of Eratosthenes: generate prime numbers with the help of an algorithm given by the\n",
    "Greek Mathematician named Eratosthenes, whose algorithm is known as Sieve of Eratosthenes"
   ]
  },
  {
   "cell_type": "code",
   "execution_count": 29,
   "metadata": {},
   "outputs": [
    {
     "name": "stdout",
     "output_type": "stream",
     "text": [
      "2 3 5 7 11 13 17 19 23 29 31 37 41 43 47 53 59 61 67 71 73 79 83 89 97 "
     ]
    }
   ],
   "source": [
    "def sieveOfEratosthenes():\n",
    "    n = int(input(\"Enter the number: \"))\n",
    "    prime = [True for i in range(n+1)]\n",
    "    p = 2\n",
    "    while(p*p<=n):\n",
    "        if(prime[p]==True):\n",
    "            for i in range(p*p,n+1,p):\n",
    "                prime[i]=False\n",
    "        p+=1\n",
    "    for i in range(2,n+1):\n",
    "        if prime[i]:\n",
    "            print(i,end=\" \")\n",
    "sieveOfEratosthenes()"
   ]
  },
  {
   "attachments": {},
   "cell_type": "markdown",
   "metadata": {},
   "source": [
    "4. python program for matrix multiplication"
   ]
  },
  {
   "cell_type": "code",
   "execution_count": 2,
   "metadata": {},
   "outputs": [
    {
     "name": "stdout",
     "output_type": "stream",
     "text": [
      "[5, 5]\n",
      "[5, 5]\n"
     ]
    }
   ],
   "source": [
    "n1=int(input(\"enter number of rows of mat1:\"))\n",
    "m1=int(input(\"enter number of columns of mat 1:\"))\n",
    "mat1=[]\n",
    "for i in range(n1):\n",
    "    t=[]\n",
    "    for j in range(m1):\n",
    "       t.append(int(input()))\n",
    "    mat1.append(t) \n",
    "n2=int(input(\"enter number of rows of mat2:\"))\n",
    "m2=int(input(\"enter number of columns of mat 2:\"))\n",
    "mat2=[]\n",
    "for i in range(n2):\n",
    "    t=[]\n",
    "    for j in range(m2):\n",
    "       t.append(int(input()))\n",
    "    mat2.append(t) \n",
    "mat3 = []\n",
    "for i in range(n1):\n",
    "    t=[]\n",
    "    for j in range(m2):\n",
    "        e = 0\n",
    "        for k in range(n2):\n",
    "            e = e + mat1[i][k] * mat2[k][j]\n",
    "        t.append(e)\n",
    "    mat3.append(t)\n",
    "for i in mat3:print(i)"
   ]
  },
  {
   "attachments": {},
   "cell_type": "markdown",
   "metadata": {},
   "source": [
    "# python lab exercise 10"
   ]
  },
  {
   "attachments": {},
   "cell_type": "markdown",
   "metadata": {},
   "source": [
    "1. To write a python program to find exponentiation (power of a number)."
   ]
  },
  {
   "cell_type": "code",
   "execution_count": 16,
   "metadata": {},
   "outputs": [
    {
     "name": "stdout",
     "output_type": "stream",
     "text": [
      "base 4 to the power 2 is 16\n"
     ]
    }
   ],
   "source": [
    "def exponentiation(base , n):\n",
    "    if n==0:\n",
    "        return 1\n",
    "    else:\n",
    "        return base*exponentiation(base , n-1)\n",
    "n=int(input(\"Enter the number: \"))\n",
    "base = int(input(\"Enter the base: \"))\n",
    "print(f\"base {base} to the power {n} is {exponentiation(base,n)}\")"
   ]
  },
  {
   "attachments": {},
   "cell_type": "markdown",
   "metadata": {},
   "source": [
    "2. binary search "
   ]
  },
  {
   "cell_type": "code",
   "execution_count": 18,
   "metadata": {},
   "outputs": [
    {
     "name": "stdout",
     "output_type": "stream",
     "text": [
      "0 is present at index 1\n",
      "[-2, 0, 11, 13, 42, 199]\n"
     ]
    }
   ],
   "source": [
    "def binarySearch(arr, x ):\n",
    "    l = 0\n",
    "    r = len(arr)-1\n",
    "    while(l<=r):\n",
    "        mid = (l+r)//2\n",
    "        if arr[mid]==x:\n",
    "            return mid\n",
    "        elif arr[mid]<x:\n",
    "            l = mid+1\n",
    "        else:\n",
    "            r = mid-1\n",
    "    return -1\n",
    "arr = [int(x) for x in input(\"Enter the array: \").split()]\n",
    "arr.sort()\n",
    "x = int(input(\"Enter the number to be searched: \"))\n",
    "result = print(f\"{x} is present at index {binarySearch(arr,x)}\") if binarySearch(arr,x)!=-1 else print(f\"{x} is not present in the array\")\n",
    "print(arr)"
   ]
  },
  {
   "attachments": {},
   "cell_type": "markdown",
   "metadata": {},
   "source": [
    "# python lab exercise 11"
   ]
  },
  {
   "attachments": {},
   "cell_type": "markdown",
   "metadata": {},
   "source": [
    "1. To write a python program of Factorial"
   ]
  },
  {
   "cell_type": "code",
   "execution_count": 3,
   "metadata": {},
   "outputs": [
    {
     "name": "stdout",
     "output_type": "stream",
     "text": [
      "Factorial of 5 is 120\n"
     ]
    }
   ],
   "source": [
    "def factorial(n):\n",
    "    if n==0:\n",
    "        return 1\n",
    "    return n*factorial(n-1)\n",
    "n = int(input(\"Enter the number: \"))\n",
    "print(f\"Factorial of {n} is {factorial(n)}\")"
   ]
  },
  {
   "attachments": {},
   "cell_type": "markdown",
   "metadata": {},
   "source": [
    "2. To write a python program of Fibonacci\n"
   ]
  },
  {
   "cell_type": "code",
   "execution_count": 6,
   "metadata": {},
   "outputs": [
    {
     "name": "stdout",
     "output_type": "stream",
     "text": [
      "10th fibonacci no is 55\n"
     ]
    }
   ],
   "source": [
    "def fibonacci(n):\n",
    "    if n==0 or n==1:\n",
    "        return n\n",
    "    return fibonacci(n-1)+fibonacci(n-2)\n",
    "n = int(input(\"Enter the number: \"))\n",
    "print(f\"{n}th fibonacci no is {fibonacci(n)}\")"
   ]
  },
  {
   "attachments": {},
   "cell_type": "markdown",
   "metadata": {},
   "source": [
    "3. To write a python program of Tower of Hanoi"
   ]
  },
  {
   "cell_type": "code",
   "execution_count": 10,
   "metadata": {},
   "outputs": [
    {
     "name": "stdout",
     "output_type": "stream",
     "text": [
      "Move disk 1 from A to C\n",
      "Move disk 2 from A to B\n",
      "Move disk 1 from C to B\n",
      "Move disk 3 from A to C\n",
      "Move disk 1 from B to A\n",
      "Move disk 2 from B to C\n",
      "Move disk 1 from A to C\n"
     ]
    }
   ],
   "source": [
    "def toh(n, source, destination, aux):\n",
    "    if n==1:\n",
    "        print(f\"Move disk 1 from {source} to {destination}\")\n",
    "        return\n",
    "    toh(n-1,source,aux,destination)\n",
    "    print(f\"Move disk {n} from {source} to {destination}\")\n",
    "    toh(n-1,aux,destination,source)\n",
    "\n",
    "n = int(input(\"Enter the number of disks: \"))\n",
    "toh(n,'A','C','B')\n"
   ]
  }
 ],
 "metadata": {
  "kernelspec": {
   "display_name": "Python 3",
   "language": "python",
   "name": "python3"
  },
  "language_info": {
   "codemirror_mode": {
    "name": "ipython",
    "version": 3
   },
   "file_extension": ".py",
   "mimetype": "text/x-python",
   "name": "python",
   "nbconvert_exporter": "python",
   "pygments_lexer": "ipython3",
   "version": "3.11.1"
  },
  "orig_nbformat": 4
 },
 "nbformat": 4,
 "nbformat_minor": 2
}
